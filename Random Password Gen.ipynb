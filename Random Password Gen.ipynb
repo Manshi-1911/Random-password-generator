{
 "cells": [
  {
   "cell_type": "code",
   "execution_count": 20,
   "id": "9a7c2b08",
   "metadata": {},
   "outputs": [],
   "source": [
    "import random\n",
    "from tkinter import * \n"
   ]
  },
  {
   "cell_type": "code",
   "execution_count": 21,
   "id": "b3b8182e",
   "metadata": {},
   "outputs": [],
   "source": [
    "root = Tk()\n",
    "root.title('Random Password Generator')\n",
    "root.geometry('500x350')\n",
    "\n",
    "alpha = 'abcdefghijklmnopqrstuvwxyzABCDEFGHIJKLMNOPQRSTUVWXYZ'\n",
    "numbers = '0123456789'\n",
    "symbols = '!@#$%^&*_-+='\n",
    "\n",
    "characters = alpha + numbers + symbols"
   ]
  },
  {
   "cell_type": "code",
   "execution_count": null,
   "id": "d882ea22",
   "metadata": {},
   "outputs": [],
   "source": [
    "label_characters = Label(root, text=\"Number of characters\", font=('Arial', 12)).pack(padx=10)\n",
    "character_length = Entry(root, font=\"Arial 14\")\n",
    "character_length.pack(padx=10)\n",
    "\n",
    "def generate_password():\n",
    "    length = character_length.get()\n",
    "    password = \"\".join(random.sample(characters, int(length)))\n",
    "    label_password.config(text='Generated Password: ' + password)\n",
    "\n",
    "Button(root, text=\"Generate Password\", command=generate_password, font=('Arial', 12)).pack(padx=10)\n",
    "label_password = Label(root, font=('Arial', 12))\n",
    "label_password.pack()\n",
    "\n",
    "root.mainloop()"
   ]
  },
  {
   "cell_type": "code",
   "execution_count": null,
   "id": "62e63c5e",
   "metadata": {},
   "outputs": [],
   "source": []
  }
 ],
 "metadata": {
  "kernelspec": {
   "display_name": "Python 3 (ipykernel)",
   "language": "python",
   "name": "python3"
  },
  "language_info": {
   "codemirror_mode": {
    "name": "ipython",
    "version": 3
   },
   "file_extension": ".py",
   "mimetype": "text/x-python",
   "name": "python",
   "nbconvert_exporter": "python",
   "pygments_lexer": "ipython3",
   "version": "3.8.12"
  }
 },
 "nbformat": 4,
 "nbformat_minor": 5
}
